{
  "nbformat": 4,
  "nbformat_minor": 0,
  "metadata": {
    "colab": {
      "private_outputs": true,
      "provenance": [],
      "authorship_tag": "ABX9TyOd1qnWuQJTSgv8qE8zXS48",
      "include_colab_link": true
    },
    "kernelspec": {
      "name": "python3",
      "display_name": "Python 3"
    },
    "language_info": {
      "name": "python"
    }
  },
  "cells": [
    {
      "cell_type": "markdown",
      "metadata": {
        "id": "view-in-github",
        "colab_type": "text"
      },
      "source": [
        "<a href=\"https://colab.research.google.com/github/WanzeeCho/LG_CNS_ML/blob/main/Solving_A_Simple_Classification_Problem_with_Python_%E2%80%94_Fruits_Lovers%E2%80%99_Edition.ipynb\" target=\"_parent\"><img src=\"https://colab.research.google.com/assets/colab-badge.svg\" alt=\"Open In Colab\"/></a>"
      ]
    },
    {
      "cell_type": "markdown",
      "source": [
        "**Data**\n",
        "\n",
        "과일 데이터 세트는 University of Edinburgh의 Iain Murray 박사가 만들었습니다. \n",
        "\n",
        "그는 다양한 종류의 오렌지, 레몬, 사과 수십 개를 사서 그 측정치를 표에 직접 기록했습니다. \n",
        "\n",
        "그리고 나서 University of Michigan의 교수들이 과일 데이터를 약간 형식화했으며\n",
        "\n",
        " https://github.com/susanli2016/Machine-Learning-with-Python/blob/master/fruit_data_with_colors.txt \n",
        " \n",
        " 에서 다운로드할 수 있습니다."
      ],
      "metadata": {
        "id": "cb5gokYqlIkc"
      }
    },
    {
      "cell_type": "code",
      "source": [
        "from google.colab import drive\n",
        "drive.mount('/content/drive')"
      ],
      "metadata": {
        "id": "-8uQhzi2mGbY"
      },
      "execution_count": null,
      "outputs": []
    },
    {
      "cell_type": "code",
      "execution_count": null,
      "metadata": {
        "id": "iqG_lVjGlAJG"
      },
      "outputs": [],
      "source": [
        "%matplotlib inline\n",
        "import pandas as pd\n",
        "import matplotlib.pyplot as plt\n",
        "fruits = pd.read_table('/content/drive/MyDrive/fruit_data_with_colors.txt')\n",
        "fruits.head()"
      ]
    },
    {
      "cell_type": "markdown",
      "source": [
        "데이터 세트의 각 행은 테이블의 열에 있는 여러 기능으로 표시되는 과일 하나를 나타냅니다.\n",
        "\n",
        "데이터 세트에는 59개의 과일과 7개의 Feature가 있습니다."
      ],
      "metadata": {
        "id": "D_rY5nkkoQFR"
      }
    },
    {
      "cell_type": "code",
      "source": [
        "print(fruits.shape)"
      ],
      "metadata": {
        "id": "189oIkCqocRj"
      },
      "execution_count": null,
      "outputs": []
    },
    {
      "cell_type": "markdown",
      "source": [
        "데이터 세트에는 네 가지 유형의 과일이 있습니다."
      ],
      "metadata": {
        "id": "8PuhnTBpoeEw"
      }
    },
    {
      "cell_type": "code",
      "source": [
        "print(fruits['fruit_name'].unique())"
      ],
      "metadata": {
        "id": "8hRFKrBHogKJ"
      },
      "execution_count": null,
      "outputs": []
    },
    {
      "cell_type": "markdown",
      "source": [
        "데이터는 귤을 제외하고 꽤 균형이 잡혀 있습니다."
      ],
      "metadata": {
        "id": "FutOa3heolrr"
      }
    },
    {
      "cell_type": "code",
      "source": [
        "print(fruits.groupby('fruit_name').size())"
      ],
      "metadata": {
        "id": "ca1geLpholZX"
      },
      "execution_count": null,
      "outputs": []
    },
    {
      "cell_type": "code",
      "source": [
        "import seaborn as sns\n",
        "sns.countplot(x=fruits['fruit_name'],label=\"Count\")\n",
        "plt.show()"
      ],
      "metadata": {
        "id": "f0yHNysUo56d"
      },
      "execution_count": null,
      "outputs": []
    },
    {
      "cell_type": "markdown",
      "source": [
        "**Visualization**\n",
        "\n",
        "각 숫자 변수의 Box Plot을 사용하면 입력 변수의 분포를 보다 명확하게 파악할 수 있습니다."
      ],
      "metadata": {
        "id": "X4JL0hpPpjR-"
      }
    },
    {
      "cell_type": "code",
      "source": [
        "fruits.drop('fruit_label', axis=1).plot(kind='box', subplots=True, layout=(2,2), sharex=False, sharey=False, figsize=(9,9), \n",
        "                                        title='Box Plot for each input variable')\n",
        "plt.savefig('fruits_box')\n",
        "plt.show()"
      ],
      "metadata": {
        "id": "fstExWJFpozj"
      },
      "execution_count": null,
      "outputs": []
    },
    {
      "cell_type": "markdown",
      "source": [
        "일부 특성 쌍은 상관 관계가 있습니다(질량 및 너비)."
      ],
      "metadata": {
        "id": "uUGh5uH-qCg6"
      }
    },
    {
      "cell_type": "code",
      "source": [
        "from pandas.plotting import scatter_matrix\n",
        "from matplotlib import cm\n",
        "feature_names = ['mass', 'width', 'height', 'color_score']\n",
        "X = fruits[feature_names]\n",
        "y = fruits['fruit_label']\n",
        "cmap = cm.get_cmap('gnuplot')\n",
        "scatter = scatter_matrix(X, c = y, marker = 'o', s=40, hist_kwds={'bins':15}, figsize=(9,9), cmap = cmap)\n",
        "plt.suptitle('Scatter-matrix for each input variable')\n",
        "plt.savefig('fruits_scatter_matrix')"
      ],
      "metadata": {
        "id": "WZ7hS2AjqXBb"
      },
      "execution_count": null,
      "outputs": []
    },
    {
      "cell_type": "markdown",
      "source": [
        "데이터 스케일링이란 데이터 전처리 과정 중의 하나입니다.\n",
        "\n",
        "피처(feature)들마다 데이터값의 범위가 다 제각각이기 때문에 범위 차이가 클 경우 데이터를 갖고 모델을 학습할 때 0으로 수렴하거나 무한으로 발산할 수 있습니다.\n",
        "\n",
        "따라서 데이터 스케일링을 통해 모든 피처들의 데이터 분포나 범위를 동일하게 조정해줘야 합니다."
      ],
      "metadata": {
        "id": "5ChCiKy9sr5x"
      }
    },
    {
      "cell_type": "markdown",
      "source": [
        "**Create Training and Test Sets and Apply Scaling**"
      ],
      "metadata": {
        "id": "flwFpEEbs51f"
      }
    },
    {
      "cell_type": "code",
      "source": [
        "from sklearn.model_selection import train_test_split\n",
        "X_train, X_test, y_train, y_test = train_test_split(X, y, random_state=0)\n",
        "from sklearn.preprocessing import MinMaxScaler\n",
        "scaler = MinMaxScaler()\n",
        "X_train = scaler.fit_transform(X_train)\n",
        "X_test = scaler.transform(X_test)"
      ],
      "metadata": {
        "id": "DaLDQq4Qs5Gm"
      },
      "execution_count": null,
      "outputs": []
    },
    {
      "cell_type": "markdown",
      "source": [
        "MinMaxScaler는 모든 피처들이 0과 1사이의 데이터값을 갖도록 만들어줍니다.\n",
        "\n",
        "즉, 피처별로 최솟값은 0이 되고, 최댓값은 1이 되는 것이죠.\n",
        "\n",
        "데이터가 2차원인 경우, 모든 데이터는 x, y 축의 0과 1 사이에 존재하게 됩니다."
      ],
      "metadata": {
        "id": "mSmenxoRtT27"
      }
    },
    {
      "cell_type": "markdown",
      "source": [
        "**Build Models**"
      ],
      "metadata": {
        "id": "NZcuFDp3tZPw"
      }
    },
    {
      "cell_type": "markdown",
      "source": [
        "Decision Tree"
      ],
      "metadata": {
        "id": "bTirmRVxuAv6"
      }
    },
    {
      "cell_type": "code",
      "source": [
        "from sklearn.tree import DecisionTreeClassifier\n",
        "clf = DecisionTreeClassifier().fit(X_train, y_train)\n",
        "print('Accuracy of Decision Tree classifier on training set: {:.2f}'\n",
        "     .format(clf.score(X_train, y_train)))\n",
        "print('Accuracy of Decision Tree classifier on test set: {:.2f}'\n",
        "     .format(clf.score(X_test, y_test)))"
      ],
      "metadata": {
        "id": "D29c3X03uB9k"
      },
      "execution_count": null,
      "outputs": []
    },
    {
      "cell_type": "markdown",
      "source": [
        "K-Nearest Neighbors"
      ],
      "metadata": {
        "id": "CWIae79ZuFHS"
      }
    },
    {
      "cell_type": "code",
      "source": [
        "from sklearn.neighbors import KNeighborsClassifier\n",
        "knn = KNeighborsClassifier()\n",
        "knn.fit(X_train, y_train)\n",
        "print('Accuracy of K-NN classifier on training set: {:.2f}'\n",
        "     .format(knn.score(X_train, y_train)))\n",
        "print('Accuracy of K-NN classifier on test set: {:.2f}'\n",
        "     .format(knn.score(X_test, y_test)))"
      ],
      "metadata": {
        "id": "97ihbuWAuFlD"
      },
      "execution_count": null,
      "outputs": []
    },
    {
      "cell_type": "markdown",
      "source": [
        "Linear Discriminant Analysis"
      ],
      "metadata": {
        "id": "Yj1mF3JzuIsR"
      }
    },
    {
      "cell_type": "code",
      "source": [
        "from sklearn.discriminant_analysis import LinearDiscriminantAnalysis\n",
        "lda = LinearDiscriminantAnalysis()\n",
        "lda.fit(X_train, y_train)\n",
        "print('Accuracy of LDA classifier on training set: {:.2f}'\n",
        "     .format(lda.score(X_train, y_train)))\n",
        "print('Accuracy of LDA classifier on test set: {:.2f}'\n",
        "     .format(lda.score(X_test, y_test)))"
      ],
      "metadata": {
        "id": "84v9XLfBuJYA"
      },
      "execution_count": null,
      "outputs": []
    },
    {
      "cell_type": "markdown",
      "source": [
        "Gaussian Naive Bayes"
      ],
      "metadata": {
        "id": "IqzaVNlAuNan"
      }
    },
    {
      "cell_type": "code",
      "source": [
        "from sklearn.naive_bayes import GaussianNB\n",
        "gnb = GaussianNB()\n",
        "gnb.fit(X_train, y_train)\n",
        "print('Accuracy of GNB classifier on training set: {:.2f}'\n",
        "     .format(gnb.score(X_train, y_train)))\n",
        "print('Accuracy of GNB classifier on test set: {:.2f}'\n",
        "     .format(gnb.score(X_test, y_test)))"
      ],
      "metadata": {
        "id": "9ME4yNq9uOwr"
      },
      "execution_count": null,
      "outputs": []
    },
    {
      "cell_type": "markdown",
      "source": [
        "Support Vector Machine"
      ],
      "metadata": {
        "id": "oZcTJLgVthCr"
      }
    },
    {
      "cell_type": "code",
      "source": [
        "from sklearn.svm import SVC\n",
        "svm = SVC()\n",
        "svm.fit(X_train, y_train)\n",
        "print('Accuracy of SVM classifier on training set: {:.2f}'\n",
        "     .format(svm.score(X_train, y_train)))\n",
        "print('Accuracy of SVM classifier on test set: {:.2f}'\n",
        "     .format(svm.score(X_test, y_test)))"
      ],
      "metadata": {
        "id": "EkTrCEJJtfTz"
      },
      "execution_count": null,
      "outputs": []
    },
    {
      "cell_type": "markdown",
      "source": [
        "KNN 알고리즘이 제일 정확도가 높은 모델이었습니다. Confusion Matrix를 확인해봅시다."
      ],
      "metadata": {
        "id": "DhYLfSieucT0"
      }
    },
    {
      "cell_type": "code",
      "source": [
        "from sklearn.metrics import classification_report\n",
        "from sklearn.metrics import confusion_matrix\n",
        "pred = knn.predict(X_test)\n",
        "print(confusion_matrix(y_test, pred))\n",
        "print(classification_report(y_test, pred))"
      ],
      "metadata": {
        "id": "U9zAoWAWs4tV"
      },
      "execution_count": null,
      "outputs": []
    },
    {
      "cell_type": "markdown",
      "source": [
        "**Plot the Decision Boundary of the k-NN Classifier**"
      ],
      "metadata": {
        "id": "P5D8uwUmumfj"
      }
    },
    {
      "cell_type": "code",
      "source": [
        "import matplotlib.cm as cm\n",
        "from matplotlib.colors import ListedColormap, BoundaryNorm\n",
        "import matplotlib.patches as mpatches\n",
        "import matplotlib.patches as mpatches\n",
        "import numpy as np\n",
        "\n",
        "X = fruits[['mass', 'width', 'height', 'color_score']]\n",
        "y = fruits['fruit_label']\n",
        "X_train, X_test, y_train, y_test = train_test_split(X, y, random_state=0)\n",
        "\n",
        "def plot_fruit_knn(X, y, n_neighbors, weights):\n",
        "  X_mat = X[['height', 'width']].to_numpy()\n",
        "  y_mat = y.to_numpy()\n",
        "# Create color maps\n",
        "  cmap_light = ListedColormap(['#FFAAAA', '#AAFFAA', '#AAAAFF','#AFAFAF'])\n",
        "  cmap_bold  = ListedColormap(['#FF0000', '#00FF00', '#0000FF','#AFAFAF'])\n",
        "  clf = KNeighborsClassifier(n_neighbors, weights=weights)\n",
        "  clf.fit(X_mat, y_mat)\n",
        "\n",
        "# Plot the decision boundary by assigning a color in the color map\n",
        "# to each mesh point.\n",
        "  \n",
        "  mesh_step_size = .01  # step size in the mesh\n",
        "  plot_symbol_size = 50\n",
        "  \n",
        "  x_min, x_max = X_mat[:, 0].min() - 1, X_mat[:, 0].max() + 1\n",
        "  y_min, y_max = X_mat[:, 1].min() - 1, X_mat[:, 1].max() + 1\n",
        "  xx, yy = np.meshgrid(np.arange(x_min, x_max, mesh_step_size), np.arange(y_min, y_max, mesh_step_size))\n",
        "  Z = clf.predict(np.c_[xx.ravel(), yy.ravel()])\n",
        "# Put the result into a color plot\n",
        "  Z = Z.reshape(xx.shape)\n",
        "  plt.figure()\n",
        "  plt.pcolormesh(xx, yy, Z, cmap=cmap_light)\n",
        "# Plot training points\n",
        "  plt.scatter(X_mat[:, 0], X_mat[:, 1], s=plot_symbol_size, c=y, cmap=cmap_bold, edgecolor = 'black')\n",
        "  plt.xlim(xx.min(), xx.max())\n",
        "  plt.ylim(yy.min(), yy.max())\n",
        "\n",
        "  patch0 = mpatches.Patch(color='#FF0000', label='apple')\n",
        "  patch1 = mpatches.Patch(color='#00FF00', label='mandarin')\n",
        "  patch2 = mpatches.Patch(color='#0000FF', label='orange')\n",
        "  patch3 = mpatches.Patch(color='#AFAFAF', label='lemon')\n",
        "\n",
        "  plt.legend(handles=[patch0, patch1, patch2, patch3])\n",
        "\n",
        "  plt.xlabel('height (cm)')\n",
        "  plt.ylabel('width (cm)')\n",
        "  plt.title(\"4-Class classification (k = %i, weights = %s)\" % (n_neighbors, weights))   \n",
        "  plt.show()\n",
        "\n",
        "plot_fruit_knn(X_train, y_train, 5, 'uniform')"
      ],
      "metadata": {
        "id": "Ruua4PV2uo0D"
      },
      "execution_count": null,
      "outputs": []
    },
    {
      "cell_type": "code",
      "source": [
        "k_range = range(1, 20)\n",
        "scores = []\n",
        "\n",
        "for k in k_range:\n",
        "    knn = KNeighborsClassifier(n_neighbors = k)\n",
        "    knn.fit(X_train, y_train)\n",
        "    scores.append(knn.score(X_test, y_test))\n",
        "\n",
        "plt.figure()\n",
        "plt.xlabel('k')\n",
        "plt.ylabel('accuracy')\n",
        "plt.scatter(k_range, scores)\n",
        "plt.xticks([0,5,10,15,20])"
      ],
      "metadata": {
        "id": "vcmLJwqay8Yg"
      },
      "execution_count": null,
      "outputs": []
    },
    {
      "cell_type": "markdown",
      "source": [
        "이 데이터셋의 경우 k=5일 때 가장 높은 정확도를 얻습니다."
      ],
      "metadata": {
        "id": "pdH5lYOtzCop"
      }
    }
  ]
}